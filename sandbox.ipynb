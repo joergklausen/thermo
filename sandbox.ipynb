{
 "cells": [
  {
   "attachments": {},
   "cell_type": "markdown",
   "metadata": {},
   "source": [
    "To open a `.zip` archive containing `.tar.gz` files, extract the desired file, read it into a Pandas DataFrame, discard the header and extra lines, and then convert it into a Polars DataFrame, you can use the following code:"
   ]
  },
  {
   "cell_type": "code",
   "execution_count": 2,
   "metadata": {},
   "outputs": [],
   "source": [
    "import os \n",
    "import zipfile\n",
    "import tarfile\n",
    "import pandas as pd\n",
    "import polars as pl\n",
    "import io\n",
    "import re\n",
    "import shutil\n",
    "root = \"C:/Users/localadmin/Documents/git/thermo/data\"\n",
    "tmp = os.path.join(root, \"tmp\")\n",
    "os.makedirs(tmp, exist_ok=True)"
   ]
  },
  {
   "cell_type": "code",
   "execution_count": null,
   "metadata": {},
   "outputs": [],
   "source": [
    "instr = \"tei49c\"\n",
    "files = os.listdir(os.path.join(root, instr))\n",
    "# extract all archives to temporary directory\n",
    "for file in files:\n",
    "    with zipfile.ZipFile(os.path.join(root, instr, file), \"r\") as zfh:\n",
    "        zfh.extractall(tmp)\n"
   ]
  },
  {
   "cell_type": "code",
   "execution_count": 81,
   "metadata": {},
   "outputs": [],
   "source": [
    "def read_tei49c_dat(source: str) -> pl.DataFrame:\n",
    "  if re.search(\".zip\", source):\n",
    "    try:\n",
    "      with zipfile.ZipFile(source, \"r\") as obj:\n",
    "        source=obj\n",
    "    except Exception as err:\n",
    "      print(err)\n",
    "      return pl.DataFrame()      \n",
    "  else:\n",
    "    try:\n",
    "      # assumes the \"standard\" format with columns\n",
    "      # \"pcdate\", \"pctime\", \"time\", \"date\", \"o3\", \"flags\", \"cellai\", \"cellbi\", \"bncht\", \"lmpt\", \"o3lt\", \"flowa\", \"flowb\", \"pres\"\n",
    "      df = pl.read_csv(source=source, has_header=True, separator=\" \", comment_char=\"l\",)\n",
    "        # dtypes=[\"utf8\", \"utf8\", \"utf8\", \"utf8\", \"f16\", \"utf8\", \"i16\", \"i16\", \"f16\", \"f16\", \"f16\", \"f16\", \"f16\", \"f16\"])\n",
    "      \n",
    "      # fix error in header in some older files\n",
    "      if len(df.columns[2])==0:\n",
    "        df = pl.read_csv(source=source, has_header=False, separator=\" \", comment_char=\"l\", skip_rows=1,\n",
    "          new_columns=[\"time\", \"date\", \"o3\", \"flags\", \"cellai\", \"cellbi\", \"bncht\", \"lmpt\", \"o3lt\", \"flowa\", \"flowb\", \"pres\"])\n",
    "        # df = df.cast({\"pres\": pl.Float32}, strict=False)\n",
    "        # df = df.with_columns({\"pcdate\": [None for i in range(len(df))], \"pctime\": [None for i in range(len(df))]})\n",
    "      elif len(df.columns[4])==0:\n",
    "        df = pl.read_csv(source=source, has_header=False, separator=\" \", comment_char=\"l\", skip_rows=1,\n",
    "          new_columns=[\"pcdate\", \"pctime\", \"time\", \"date\", \"o3\", \"flags\", \"cellai\", \"cellbi\", \"bncht\", \"lmpt\", \"o3lt\", \"flowa\", \"flowb\", \"pres\"])\n",
    "        df = df.with_columns({\"pcdate\": [None for i in range(len(df))], \"pctime\": [None for i in range(len(df))]})\n",
    "\n",
    "      return df\n",
    "    except Exception as err:\n",
    "      print(err)\n",
    "      return pl.DataFrame()"
   ]
  },
  {
   "cell_type": "code",
   "execution_count": null,
   "metadata": {},
   "outputs": [],
   "source": [
    "df_tot = pl.DataFrame()\n",
    "for base, dirs, files in os.walk(tmp):\n",
    "    for file in files:\n",
    "        source = os.path.join(base, file)\n",
    "        print(source)\n",
    "        if re.search(r\"tei49c-\\d+.[zip|dat]\", file):\n",
    "            df = read_tei49c_dat(source)\n",
    "            if df.is_empty:\n",
    "                shutil.move(src=source, dst=os.path.join(tmp, \"failed\", source))\n",
    "            else:\n",
    "                df_tot = df_tot.vstack(df, in_place=True)\n",
    "                shutil.move(src=source, dst=os.path.join(tmp, \"success\", source))\n"
   ]
  },
  {
   "cell_type": "code",
   "execution_count": 82,
   "metadata": {},
   "outputs": [
    {
     "ename": "PanicException",
     "evalue": "index out of bounds: the len is 0 but the index is 0",
     "output_type": "error",
     "traceback": [
      "\u001b[1;31m---------------------------------------------------------------------------\u001b[0m",
      "\u001b[1;31mPanicException\u001b[0m                            Traceback (most recent call last)",
      "\u001b[1;32mc:\\Users\\localadmin\\Documents\\git\\thermo\\sandbox.ipynb Cell 6\u001b[0m in \u001b[0;36m<cell line: 2>\u001b[1;34m()\u001b[0m\n\u001b[0;32m      <a href='vscode-notebook-cell:/c%3A/Users/localadmin/Documents/git/thermo/sandbox.ipynb#W5sZmlsZQ%3D%3D?line=0'>1</a>\u001b[0m source \u001b[39m=\u001b[39m \u001b[39m\"\u001b[39m\u001b[39mC:/Users/localadmin/Documents/git/thermo/data/tmp/tei49c-202108190910.dat\u001b[39m\u001b[39m\"\u001b[39m\n\u001b[1;32m----> <a href='vscode-notebook-cell:/c%3A/Users/localadmin/Documents/git/thermo/sandbox.ipynb#W5sZmlsZQ%3D%3D?line=1'>2</a>\u001b[0m df1 \u001b[39m=\u001b[39m read_tei49c_dat(source)\n\u001b[0;32m      <a href='vscode-notebook-cell:/c%3A/Users/localadmin/Documents/git/thermo/sandbox.ipynb#W5sZmlsZQ%3D%3D?line=2'>3</a>\u001b[0m \u001b[39mprint\u001b[39m(df1\u001b[39m.\u001b[39mschema)\n\u001b[0;32m      <a href='vscode-notebook-cell:/c%3A/Users/localadmin/Documents/git/thermo/sandbox.ipynb#W5sZmlsZQ%3D%3D?line=3'>4</a>\u001b[0m \u001b[39mprint\u001b[39m(df1\u001b[39m.\u001b[39mcolumns)\n",
      "\u001b[1;32mc:\\Users\\localadmin\\Documents\\git\\thermo\\sandbox.ipynb Cell 6\u001b[0m in \u001b[0;36mread_tei49c_dat\u001b[1;34m(source)\u001b[0m\n\u001b[0;32m     <a href='vscode-notebook-cell:/c%3A/Users/localadmin/Documents/git/thermo/sandbox.ipynb#W5sZmlsZQ%3D%3D?line=13'>14</a>\u001b[0m   \u001b[39m# dtypes=[\"utf8\", \"utf8\", \"utf8\", \"utf8\", \"f16\", \"utf8\", \"i16\", \"i16\", \"f16\", \"f16\", \"f16\", \"f16\", \"f16\", \"f16\"])\u001b[39;00m\n\u001b[0;32m     <a href='vscode-notebook-cell:/c%3A/Users/localadmin/Documents/git/thermo/sandbox.ipynb#W5sZmlsZQ%3D%3D?line=14'>15</a>\u001b[0m \n\u001b[0;32m     <a href='vscode-notebook-cell:/c%3A/Users/localadmin/Documents/git/thermo/sandbox.ipynb#W5sZmlsZQ%3D%3D?line=15'>16</a>\u001b[0m \u001b[39m# fix error in header in some older files\u001b[39;00m\n\u001b[0;32m     <a href='vscode-notebook-cell:/c%3A/Users/localadmin/Documents/git/thermo/sandbox.ipynb#W5sZmlsZQ%3D%3D?line=16'>17</a>\u001b[0m \u001b[39mif\u001b[39;00m \u001b[39mlen\u001b[39m(df\u001b[39m.\u001b[39mcolumns[\u001b[39m2\u001b[39m])\u001b[39m==\u001b[39m\u001b[39m0\u001b[39m:\n\u001b[1;32m---> <a href='vscode-notebook-cell:/c%3A/Users/localadmin/Documents/git/thermo/sandbox.ipynb#W5sZmlsZQ%3D%3D?line=17'>18</a>\u001b[0m   df \u001b[39m=\u001b[39m pl\u001b[39m.\u001b[39;49mread_csv(source\u001b[39m=\u001b[39;49msource, has_header\u001b[39m=\u001b[39;49m\u001b[39mFalse\u001b[39;49;00m, separator\u001b[39m=\u001b[39;49m\u001b[39m\"\u001b[39;49m\u001b[39m \u001b[39;49m\u001b[39m\"\u001b[39;49m, comment_char\u001b[39m=\u001b[39;49m\u001b[39m\"\u001b[39;49m\u001b[39ml\u001b[39;49m\u001b[39m\"\u001b[39;49m, skip_rows\u001b[39m=\u001b[39;49m\u001b[39m1\u001b[39;49m, eol_char\u001b[39m=\u001b[39;49m\u001b[39m\"\u001b[39;49m\u001b[39m\\r\u001b[39;49;00m\u001b[39m\"\u001b[39;49m,\n\u001b[0;32m     <a href='vscode-notebook-cell:/c%3A/Users/localadmin/Documents/git/thermo/sandbox.ipynb#W5sZmlsZQ%3D%3D?line=18'>19</a>\u001b[0m     new_columns\u001b[39m=\u001b[39;49m[\u001b[39m\"\u001b[39;49m\u001b[39mtime\u001b[39;49m\u001b[39m\"\u001b[39;49m, \u001b[39m\"\u001b[39;49m\u001b[39mdate\u001b[39;49m\u001b[39m\"\u001b[39;49m, \u001b[39m\"\u001b[39;49m\u001b[39mo3\u001b[39;49m\u001b[39m\"\u001b[39;49m, \u001b[39m\"\u001b[39;49m\u001b[39mflags\u001b[39;49m\u001b[39m\"\u001b[39;49m, \u001b[39m\"\u001b[39;49m\u001b[39mcellai\u001b[39;49m\u001b[39m\"\u001b[39;49m, \u001b[39m\"\u001b[39;49m\u001b[39mcellbi\u001b[39;49m\u001b[39m\"\u001b[39;49m, \u001b[39m\"\u001b[39;49m\u001b[39mbncht\u001b[39;49m\u001b[39m\"\u001b[39;49m, \u001b[39m\"\u001b[39;49m\u001b[39mlmpt\u001b[39;49m\u001b[39m\"\u001b[39;49m, \u001b[39m\"\u001b[39;49m\u001b[39mo3lt\u001b[39;49m\u001b[39m\"\u001b[39;49m, \u001b[39m\"\u001b[39;49m\u001b[39mflowa\u001b[39;49m\u001b[39m\"\u001b[39;49m, \u001b[39m\"\u001b[39;49m\u001b[39mflowb\u001b[39;49m\u001b[39m\"\u001b[39;49m, \u001b[39m\"\u001b[39;49m\u001b[39mpres\u001b[39;49m\u001b[39m\"\u001b[39;49m])\n\u001b[0;32m     <a href='vscode-notebook-cell:/c%3A/Users/localadmin/Documents/git/thermo/sandbox.ipynb#W5sZmlsZQ%3D%3D?line=19'>20</a>\u001b[0m   \u001b[39m# df = df.cast({\"pres\": pl.Float32}, strict=False)\u001b[39;00m\n\u001b[0;32m     <a href='vscode-notebook-cell:/c%3A/Users/localadmin/Documents/git/thermo/sandbox.ipynb#W5sZmlsZQ%3D%3D?line=20'>21</a>\u001b[0m   \u001b[39m# df = df.with_columns({\"pcdate\": [None for i in range(len(df))], \"pctime\": [None for i in range(len(df))]})\u001b[39;00m\n\u001b[0;32m     <a href='vscode-notebook-cell:/c%3A/Users/localadmin/Documents/git/thermo/sandbox.ipynb#W5sZmlsZQ%3D%3D?line=21'>22</a>\u001b[0m \u001b[39melif\u001b[39;00m \u001b[39mlen\u001b[39m(df\u001b[39m.\u001b[39mcolumns[\u001b[39m4\u001b[39m])\u001b[39m==\u001b[39m\u001b[39m0\u001b[39m:\n",
      "File \u001b[1;32mc:\\Users\\localadmin\\Documents\\git\\thermo\\.venv\\lib\\site-packages\\polars\\io\\csv\\functions.py:366\u001b[0m, in \u001b[0;36mread_csv\u001b[1;34m(source, has_header, columns, new_columns, separator, comment_char, quote_char, skip_rows, dtypes, schema, null_values, missing_utf8_is_empty_string, ignore_errors, try_parse_dates, n_threads, infer_schema_length, batch_size, n_rows, encoding, low_memory, rechunk, use_pyarrow, storage_options, skip_rows_after_header, row_count_name, row_count_offset, sample_size, eol_char, raise_if_empty, truncate_ragged_lines)\u001b[0m\n\u001b[0;32m    354\u001b[0m         dtypes \u001b[39m=\u001b[39m {\n\u001b[0;32m    355\u001b[0m             new_to_current\u001b[39m.\u001b[39mget(column_name, column_name): column_dtype\n\u001b[0;32m    356\u001b[0m             \u001b[39mfor\u001b[39;00m column_name, column_dtype \u001b[39min\u001b[39;00m dtypes\u001b[39m.\u001b[39mitems()\n\u001b[0;32m    357\u001b[0m         }\n\u001b[0;32m    359\u001b[0m \u001b[39mwith\u001b[39;00m _prepare_file_arg(\n\u001b[0;32m    360\u001b[0m     source,\n\u001b[0;32m    361\u001b[0m     encoding\u001b[39m=\u001b[39mencoding,\n\u001b[1;32m   (...)\u001b[0m\n\u001b[0;32m    364\u001b[0m     \u001b[39m*\u001b[39m\u001b[39m*\u001b[39mstorage_options,\n\u001b[0;32m    365\u001b[0m ) \u001b[39mas\u001b[39;00m data:\n\u001b[1;32m--> 366\u001b[0m     df \u001b[39m=\u001b[39m pl\u001b[39m.\u001b[39;49mDataFrame\u001b[39m.\u001b[39;49m_read_csv(\n\u001b[0;32m    367\u001b[0m         data,\n\u001b[0;32m    368\u001b[0m         has_header\u001b[39m=\u001b[39;49mhas_header,\n\u001b[0;32m    369\u001b[0m         columns\u001b[39m=\u001b[39;49mcolumns \u001b[39mif\u001b[39;49;00m columns \u001b[39melse\u001b[39;49;00m projection,\n\u001b[0;32m    370\u001b[0m         separator\u001b[39m=\u001b[39;49mseparator,\n\u001b[0;32m    371\u001b[0m         comment_char\u001b[39m=\u001b[39;49mcomment_char,\n\u001b[0;32m    372\u001b[0m         quote_char\u001b[39m=\u001b[39;49mquote_char,\n\u001b[0;32m    373\u001b[0m         skip_rows\u001b[39m=\u001b[39;49mskip_rows,\n\u001b[0;32m    374\u001b[0m         dtypes\u001b[39m=\u001b[39;49mdtypes,\n\u001b[0;32m    375\u001b[0m         schema\u001b[39m=\u001b[39;49mschema,\n\u001b[0;32m    376\u001b[0m         null_values\u001b[39m=\u001b[39;49mnull_values,\n\u001b[0;32m    377\u001b[0m         missing_utf8_is_empty_string\u001b[39m=\u001b[39;49mmissing_utf8_is_empty_string,\n\u001b[0;32m    378\u001b[0m         ignore_errors\u001b[39m=\u001b[39;49mignore_errors,\n\u001b[0;32m    379\u001b[0m         try_parse_dates\u001b[39m=\u001b[39;49mtry_parse_dates,\n\u001b[0;32m    380\u001b[0m         n_threads\u001b[39m=\u001b[39;49mn_threads,\n\u001b[0;32m    381\u001b[0m         infer_schema_length\u001b[39m=\u001b[39;49minfer_schema_length,\n\u001b[0;32m    382\u001b[0m         batch_size\u001b[39m=\u001b[39;49mbatch_size,\n\u001b[0;32m    383\u001b[0m         n_rows\u001b[39m=\u001b[39;49mn_rows,\n\u001b[0;32m    384\u001b[0m         encoding\u001b[39m=\u001b[39;49mencoding \u001b[39mif\u001b[39;49;00m encoding \u001b[39m==\u001b[39;49m \u001b[39m\"\u001b[39;49m\u001b[39mutf8-lossy\u001b[39;49m\u001b[39m\"\u001b[39;49m \u001b[39melse\u001b[39;49;00m \u001b[39m\"\u001b[39;49m\u001b[39mutf8\u001b[39;49m\u001b[39m\"\u001b[39;49m,\n\u001b[0;32m    385\u001b[0m         low_memory\u001b[39m=\u001b[39;49mlow_memory,\n\u001b[0;32m    386\u001b[0m         rechunk\u001b[39m=\u001b[39;49mrechunk,\n\u001b[0;32m    387\u001b[0m         skip_rows_after_header\u001b[39m=\u001b[39;49mskip_rows_after_header,\n\u001b[0;32m    388\u001b[0m         row_count_name\u001b[39m=\u001b[39;49mrow_count_name,\n\u001b[0;32m    389\u001b[0m         row_count_offset\u001b[39m=\u001b[39;49mrow_count_offset,\n\u001b[0;32m    390\u001b[0m         sample_size\u001b[39m=\u001b[39;49msample_size,\n\u001b[0;32m    391\u001b[0m         eol_char\u001b[39m=\u001b[39;49meol_char,\n\u001b[0;32m    392\u001b[0m         raise_if_empty\u001b[39m=\u001b[39;49mraise_if_empty,\n\u001b[0;32m    393\u001b[0m         truncate_ragged_lines\u001b[39m=\u001b[39;49mtruncate_ragged_lines,\n\u001b[0;32m    394\u001b[0m     )\n\u001b[0;32m    396\u001b[0m \u001b[39mif\u001b[39;00m new_columns:\n\u001b[0;32m    397\u001b[0m     \u001b[39mreturn\u001b[39;00m _update_columns(df, new_columns)\n",
      "File \u001b[1;32mc:\\Users\\localadmin\\Documents\\git\\thermo\\.venv\\lib\\site-packages\\polars\\dataframe\\frame.py:770\u001b[0m, in \u001b[0;36mDataFrame._read_csv\u001b[1;34m(cls, source, has_header, columns, separator, comment_char, quote_char, skip_rows, dtypes, schema, null_values, missing_utf8_is_empty_string, ignore_errors, try_parse_dates, n_threads, infer_schema_length, batch_size, n_rows, encoding, low_memory, rechunk, skip_rows_after_header, row_count_name, row_count_offset, sample_size, eol_char, raise_if_empty, truncate_ragged_lines)\u001b[0m\n\u001b[0;32m    763\u001b[0m         \u001b[39mraise\u001b[39;00m \u001b[39mValueError\u001b[39;00m(\n\u001b[0;32m    764\u001b[0m             \u001b[39m\"\u001b[39m\u001b[39mcannot use glob patterns and integer based projection as `columns` argument\u001b[39m\u001b[39m\"\u001b[39m\n\u001b[0;32m    765\u001b[0m             \u001b[39m\"\u001b[39m\u001b[39m\\n\u001b[39;00m\u001b[39m\\n\u001b[39;00m\u001b[39mUse columns: List[str]\u001b[39m\u001b[39m\"\u001b[39m\n\u001b[0;32m    766\u001b[0m         )\n\u001b[0;32m    768\u001b[0m projection, columns \u001b[39m=\u001b[39m handle_projection_columns(columns)\n\u001b[1;32m--> 770\u001b[0m \u001b[39mself\u001b[39m\u001b[39m.\u001b[39m_df \u001b[39m=\u001b[39m PyDataFrame\u001b[39m.\u001b[39;49mread_csv(\n\u001b[0;32m    771\u001b[0m     source,\n\u001b[0;32m    772\u001b[0m     infer_schema_length,\n\u001b[0;32m    773\u001b[0m     batch_size,\n\u001b[0;32m    774\u001b[0m     has_header,\n\u001b[0;32m    775\u001b[0m     ignore_errors,\n\u001b[0;32m    776\u001b[0m     n_rows,\n\u001b[0;32m    777\u001b[0m     skip_rows,\n\u001b[0;32m    778\u001b[0m     projection,\n\u001b[0;32m    779\u001b[0m     separator,\n\u001b[0;32m    780\u001b[0m     rechunk,\n\u001b[0;32m    781\u001b[0m     columns,\n\u001b[0;32m    782\u001b[0m     encoding,\n\u001b[0;32m    783\u001b[0m     n_threads,\n\u001b[0;32m    784\u001b[0m     path,\n\u001b[0;32m    785\u001b[0m     dtype_list,\n\u001b[0;32m    786\u001b[0m     dtype_slice,\n\u001b[0;32m    787\u001b[0m     low_memory,\n\u001b[0;32m    788\u001b[0m     comment_char,\n\u001b[0;32m    789\u001b[0m     quote_char,\n\u001b[0;32m    790\u001b[0m     processed_null_values,\n\u001b[0;32m    791\u001b[0m     missing_utf8_is_empty_string,\n\u001b[0;32m    792\u001b[0m     try_parse_dates,\n\u001b[0;32m    793\u001b[0m     skip_rows_after_header,\n\u001b[0;32m    794\u001b[0m     _prepare_row_count_args(row_count_name, row_count_offset),\n\u001b[0;32m    795\u001b[0m     sample_size\u001b[39m=\u001b[39;49msample_size,\n\u001b[0;32m    796\u001b[0m     eol_char\u001b[39m=\u001b[39;49meol_char,\n\u001b[0;32m    797\u001b[0m     raise_if_empty\u001b[39m=\u001b[39;49mraise_if_empty,\n\u001b[0;32m    798\u001b[0m     truncate_ragged_lines\u001b[39m=\u001b[39;49mtruncate_ragged_lines,\n\u001b[0;32m    799\u001b[0m     schema\u001b[39m=\u001b[39;49mschema,\n\u001b[0;32m    800\u001b[0m )\n\u001b[0;32m    801\u001b[0m \u001b[39mreturn\u001b[39;00m \u001b[39mself\u001b[39m\n",
      "\u001b[1;31mPanicException\u001b[0m: index out of bounds: the len is 0 but the index is 0"
     ]
    }
   ],
   "source": [
    "source = \"C:/Users/localadmin/Documents/git/thermo/data/tmp/tei49c-202108190910.dat\"\n",
    "df1 = read_tei49c_dat(source)\n",
    "print(df1.schema)\n",
    "print(df1.columns)\n",
    "df1.head()\n",
    "# source = \"C:/Users/localadmin/Documents/git/thermo/data/tmp/tei49c-202108261710.dat\"\n",
    "# df2 = read_tei49c_dat(source)\n",
    "# source = \"C:/Users/localadmin/Documents/git/thermo/data/tmp/tei49c-202206010050.dat\"\n",
    "# df3 = read_tei49c_dat(source)\n",
    "\n",
    "# df = pl.DataFrame()\n",
    "# # df.vstack(df1, in_place=True)\n",
    "# print(df.schema)\n",
    "# print(df.columns)\n",
    "# df.head()\n",
    "\n",
    "# df.vstack(df2, in_place=True)\n",
    "# print(df.schema)\n",
    "# print(df.columns)\n",
    "# df.head()\n",
    "\n",
    "# df.vstack(df3, in_place=True)\n",
    "# print(df.schema)\n",
    "# print(df.columns)\n",
    "# df.head()\n"
   ]
  },
  {
   "cell_type": "code",
   "execution_count": 13,
   "metadata": {},
   "outputs": [
    {
     "data": {
      "text/plain": [
       "''"
      ]
     },
     "execution_count": 13,
     "metadata": {},
     "output_type": "execute_result"
    }
   ],
   "source": [
    "df.columns[2]"
   ]
  },
  {
   "cell_type": "code",
   "execution_count": null,
   "metadata": {},
   "outputs": [],
   "source": [
    "for file in zfh.namelist():\n",
    "            if re.search(r\"tei49c-\\d+.dat\", file):\n",
    "                if i > 3:\n",
    "                    break\n",
    "                with zfh.open(file, \"r\") as obj:\n",
    "                    print(file)\n",
    "                    df = pl.read_csv(obj)\n",
    "                    print(df.schema)\n",
    "                i = i + 1\n",
    "            elif re.search(r\"tei49c-\\d+.zip\", file):\n",
    "                if i > 3:\n",
    "                    break\n",
    "                with zfh.open(file, \"r\") as obj:\n",
    "                    print(file)\n",
    "                    df = pl.read_csv(obj.open(file, \"r\")                            \n",
    "                        )\n",
    "                        print(df.schema)\n",
    "                i = i + 1\n",
    "                # zfh.extract(zfiles[15])\n",
    "\n",
    "        # with zipfile.ZipFile(os.path.join(root, \"tei49c\", zfiles[15].filename), \"r\") as zf:\n",
    "        #     df = pl.read_csv(zf)\n",
    "\n"
   ]
  },
  {
   "cell_type": "code",
   "execution_count": null,
   "metadata": {},
   "outputs": [],
   "source": [
    "\n",
    "  print(\"ok\")\n",
    "  name = os.path.join(root, zfiles[15].filename)\n",
    "  with zipfile.ZipFile(name, \"r\") as zfh:\n",
    "    df = pl.read_csv(zfh.extract(name))"
   ]
  },
  {
   "cell_type": "code",
   "execution_count": null,
   "metadata": {},
   "outputs": [],
   "source": [
    "# Path to the ZIP archive containing .tar.gz files\n",
    "zip_file_path = 'path/to/your/archive.zip'\n",
    "\n",
    "# Extract the .tar.gz file from the ZIP archive\n",
    "with zipfile.ZipFile(zip_file_path, 'r') as zip_ref:\n",
    "    # Assuming you know the name of the .tar.gz file you want to extract\n",
    "    # Replace 'your_file.tar.gz' with the actual file name\n",
    "    tar_gz_file_name = 'your_file.tar.gz'\n",
    "    zip_ref.extract(tar_gz_file_name)\n",
    "\n",
    "# Open the .tar.gz file and read its contents\n",
    "with tarfile.open(tar_gz_file_name, 'r:gz') as tar:\n",
    "    # Assuming 'A11.csv' is the name of the CSV file you want to read\n",
    "    # Replace it with the actual file name if necessary\n",
    "    csv_file_name = 'A11.csv'\n",
    "    csv_file = tar.extractfile(csv_file_name)\n",
    "\n",
    "    # Read the CSV file into a Pandas DataFrame, skipping header and extra lines\n",
    "    pd_df = pd.read_csv(io.BytesIO(csv_file.read()))\n",
    "    \n",
    "    # Now convert the Pandas DataFrame into a Polars DataFrame\n",
    "    pl_df = pl.DataFrame(pd_df)\n",
    "\n",
    "# You can now work with the 'pl_df' Polars DataFrame as needed\n"
   ]
  },
  {
   "cell_type": "markdown",
   "metadata": {},
   "source": [
    "Make sure to replace `'path/to/your/archive.zip'` with the actual path to your `.zip` archive and adjust the file names as necessary for your specific use case. This code will extract the `.tar.gz` file, read the CSV file from it into a Pandas DataFrame, and then convert it to a Polars DataFrame."
   ]
  }
 ],
 "metadata": {
  "kernelspec": {
   "display_name": "Python 3.9.13 ('.venv': venv)",
   "language": "python",
   "name": "python3"
  },
  "language_info": {
   "codemirror_mode": {
    "name": "ipython",
    "version": 3
   },
   "file_extension": ".py",
   "mimetype": "text/x-python",
   "name": "python",
   "nbconvert_exporter": "python",
   "pygments_lexer": "ipython3",
   "version": "3.9.13"
  },
  "orig_nbformat": 4,
  "vscode": {
   "interpreter": {
    "hash": "d15ffce383ccb52c3f0e230992da9cdde9e3983962b14b61589210acecf2931a"
   }
  }
 },
 "nbformat": 4,
 "nbformat_minor": 2
}
